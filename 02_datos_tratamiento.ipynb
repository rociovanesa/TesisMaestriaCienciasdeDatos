{
 "cells": [
  {
   "cell_type": "code",
   "execution_count": 119,
   "id": "fb83931d",
   "metadata": {},
   "outputs": [
    {
     "name": "stdout",
     "output_type": "stream",
     "text": [
      "ProductoCodigo               0\n",
      "Nombre                       0\n",
      "ImpuestoId                   0\n",
      "Impuesto                     0\n",
      "Descripcion               2375\n",
      "Activo                       0\n",
      "CuentaContableCodigo         0\n",
      "CuentaContable               0\n",
      "SubRubroCodigo               0\n",
      "SubRubro                     0\n",
      "RubroCodigo                  0\n",
      "Rubro                        0\n",
      "SubclasificacionCodigo       0\n",
      "Subclasificacion             0\n",
      "ClasificacionCodigo          0\n",
      "Clasificacion                0\n",
      "UnidadCodigo                 0\n",
      "Unidad                       0\n",
      "PrecioVenta                  0\n",
      "Stock                        0\n",
      "MovimientosStock           787\n",
      "MovimientoCantidad         787\n",
      "ImporteCompra             2695\n",
      "cluster                      0\n",
      "TieneDescripcion             0\n",
      "dtype: int64\n"
     ]
    }
   ],
   "source": [
    "#10\n",
    "# Reemplo los valores NULL o NaN en PrecioVenta por ceros\n",
    "data['PrecioVenta'] = data['PrecioVenta'].fillna(0)\n",
    "print(data.isnull().sum())"
   ]
  },
  {
   "cell_type": "code",
   "execution_count": 120,
   "id": "33ba0e2d",
   "metadata": {},
   "outputs": [
    {
     "name": "stdout",
     "output_type": "stream",
     "text": [
      "Valores faltantes por columna:\n",
      "ProductoCodigo               0\n",
      "Nombre                       0\n",
      "ImpuestoId                   0\n",
      "Impuesto                     0\n",
      "Descripcion               2375\n",
      "Activo                       0\n",
      "CuentaContableCodigo         0\n",
      "CuentaContable               0\n",
      "SubRubroCodigo               0\n",
      "SubRubro                     0\n",
      "RubroCodigo                  0\n",
      "Rubro                        0\n",
      "SubclasificacionCodigo       0\n",
      "Subclasificacion             0\n",
      "ClasificacionCodigo          0\n",
      "Clasificacion                0\n",
      "UnidadCodigo                 0\n",
      "Unidad                       0\n",
      "PrecioVenta                  0\n",
      "Stock                        0\n",
      "MovimientosStock           787\n",
      "MovimientoCantidad         787\n",
      "ImporteCompra             2695\n",
      "cluster                      0\n",
      "TieneDescripcion             0\n",
      "dtype: int64\n",
      "Valores faltantes en columnas con decimales:\n",
      "PrecioVenta    3283\n",
      "dtype: int64\n",
      "Valores faltantes después de la imputación en columnas con decimales:\n"
     ]
    }
   ],
   "source": [
    "#11\n",
    "# Reviso los valores faltantes\n",
    "print(\"Valores faltantes por columna:\")\n",
    "print(data.isnull().sum())\n",
    "\n",
    "# Columna específicas para aplicar la media\n",
    "columnas_para_imputar = ['PrecioVenta']\n",
    "\n",
    "# Reemplo las comas por puntos en las columnas relevantes\n",
    "data['PrecioVenta'] = data['PrecioVenta'].str.replace(',', '.', regex=False)\n",
    "# Convertir la columna a tipo numérico\n",
    "data['PrecioVenta'] = pd.to_numeric(data['PrecioVenta'], errors='coerce')\n",
    "\n",
    "\n",
    "\n",
    "\n",
    "\n",
    "# Mostrar las columnas con valores faltantes en las columnas con decimales\n",
    "print(\"Valores faltantes en columnas con decimales:\")\n",
    "print(data[columnas_para_imputar].isnull().sum())\n",
    "# Imputar la media solo en las columnas con decimales\n",
    "\n",
    "\n",
    "# Verificar que ya no haya valores faltantes en las columnas con decimales\n",
    "print(\"Valores faltantes después de la imputación en columnas con decimales:\")\n",
    "#print(data[columnas_para_imputar].isnull().sum())\n"
   ]
  },
  {
   "cell_type": "code",
   "execution_count": 5,
   "id": "c9ca7074",
   "metadata": {},
   "outputs": [
    {
     "name": "stdout",
     "output_type": "stream",
     "text": [
      "Valores faltantes en columnas numéricas:\n",
      "ProductoCodigo              0\n",
      "ImpuestoId                  0\n",
      "Activo                      0\n",
      "CuentaContableCodigo        0\n",
      "SubRubroCodigo              0\n",
      "RubroCodigo                 0\n",
      "SubclasificacionCodigo      0\n",
      "ClasificacionCodigo         0\n",
      "UnidadCodigo                0\n",
      "Stock                       0\n",
      "MovimientosStock          787\n",
      "MovimientoCantidad        787\n",
      "dtype: int64\n"
     ]
    }
   ],
   "source": [
    "#11#\n",
    "Filtrar solo columnas numéricas\n",
    "columnas_numericas = data.select_dtypes(include=[int, float]).columns\n",
    "# Mostrar columnas numéricas con valores faltantes\n",
    "print(\"Valores faltantes en columnas numéricas:\")\n",
    "print(data[columnas_numericas].isnull().sum())"
   ]
  }
 ],
 "metadata": {},
 "nbformat": 4,
 "nbformat_minor": 5
}
